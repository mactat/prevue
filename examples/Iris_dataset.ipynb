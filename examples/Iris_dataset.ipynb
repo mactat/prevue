{
 "cells": [
  {
   "attachments": {},
   "cell_type": "markdown",
   "metadata": {},
   "source": [
    "#### INFO\n",
    "\n",
    "Code below is just the example model which use the Keras to classify the species from the IRIS dataset. \n",
    "Code is based on the [Deep Learning with Keras on Iris Dataset](https://www.kaggle.com/code/rushabhwadkar/deep-learning-with-keras-on-iris-dataset)."
   ]
  },
  {
   "attachments": {},
   "cell_type": "markdown",
   "metadata": {},
   "source": [
    "#### Install and load all packages needed "
   ]
  },
  {
   "cell_type": "code",
   "execution_count": 1,
   "metadata": {},
   "outputs": [],
   "source": [
    "# !pip install pandas\n",
    "# !pip install scikit-learn\n",
    "# !pip install tensorflow"
   ]
  },
  {
   "cell_type": "code",
   "execution_count": 2,
   "metadata": {},
   "outputs": [],
   "source": [
    "import pandas as pd\n",
    "import numpy as np\n",
    "import tensorflow as tf\n",
    "from sklearn.datasets import load_iris\n",
    "from sklearn.model_selection import train_test_split\n",
    "from sklearn.preprocessing import StandardScaler\n",
    "import sys\n",
    "sys.path.append(\"../\")\n",
    "from connectors.exporter import PrevueKerasCallback"
   ]
  },
  {
   "cell_type": "code",
   "execution_count": 3,
   "metadata": {},
   "outputs": [],
   "source": [
    "prevueCallback = PrevueKerasCallback(connector_name = 'keras', project_name = 'iris', uid ='marta', url= 'localhost:8880')"
   ]
  },
  {
   "attachments": {},
   "cell_type": "markdown",
   "metadata": {},
   "source": [
    "#### Load data \n",
    "\n",
    "In this example the Iris dataset is used to fit the DNN model and collect the metrics. "
   ]
  },
  {
   "cell_type": "code",
   "execution_count": 4,
   "metadata": {},
   "outputs": [
    {
     "name": "stdout",
     "output_type": "stream",
     "text": [
      ".. _iris_dataset:\n",
      "\n",
      "Iris plants dataset\n",
      "--------------------\n",
      "\n",
      "**Data Set Characteristics:**\n",
      "\n",
      "    :Number of Instances: 150 (50 in each of three classes)\n",
      "    :Number of Attributes: 4 numeric, predictive attributes and the class\n",
      "    :Attribute Information:\n",
      "        - sepal length in cm\n",
      "        - sepal width in cm\n",
      "        - petal length in cm\n",
      "        - petal width in cm\n",
      "        - class:\n",
      "                - Iris-Setosa\n",
      "                - Iris-Versicolour\n",
      "                - Iris-Virginica\n",
      "                \n",
      "    :Summary Statistics:\n",
      "\n",
      "    ============== ==== ==== ======= ===== ====================\n",
      "                    Min  Max   Mean    SD   Class Correlation\n",
      "    ============== ==== ==== ======= ===== ====================\n",
      "    sepal length:   4.3  7.9   5.84   0.83    0.7826\n",
      "    sepal width:    2.0  4.4   3.05   0.43   -0.4194\n",
      "    petal length:   1.0  6.9   3.76   1.76    0.9490  (high!)\n",
      "    petal width:    0.1  2.5   1.20   0.76    0.9565  (high!)\n",
      "    ============== ==== ==== ======= ===== ====================\n",
      "\n",
      "    :Missing Attribute Values: None\n",
      "    :Class Distribution: 33.3% for each of 3 classes.\n",
      "    :Creator: R.A. Fisher\n",
      "    :Donor: Michael Marshall (MARSHALL%PLU@io.arc.nasa.gov)\n",
      "    :Date: July, 1988\n",
      "\n",
      "The famous Iris database, first used by Sir R.A. Fisher. The dataset is taken\n",
      "from Fisher's paper. Note that it's the same as in R, but not as in the UCI\n",
      "Machine Learning Repository, which has two wrong data points.\n",
      "\n",
      "This is perhaps the best known database to be found in the\n",
      "pattern recognition literature.  Fisher's paper is a classic in the field and\n",
      "is referenced frequently to this day.  (See Duda & Hart, for example.)  The\n",
      "data set contains 3 classes of 50 instances each, where each class refers to a\n",
      "type of iris plant.  One class is linearly separable from the other 2; the\n",
      "latter are NOT linearly separable from each other.\n",
      "\n",
      ".. topic:: References\n",
      "\n",
      "   - Fisher, R.A. \"The use of multiple measurements in taxonomic problems\"\n",
      "     Annual Eugenics, 7, Part II, 179-188 (1936); also in \"Contributions to\n",
      "     Mathematical Statistics\" (John Wiley, NY, 1950).\n",
      "   - Duda, R.O., & Hart, P.E. (1973) Pattern Classification and Scene Analysis.\n",
      "     (Q327.D83) John Wiley & Sons.  ISBN 0-471-22361-1.  See page 218.\n",
      "   - Dasarathy, B.V. (1980) \"Nosing Around the Neighborhood: A New System\n",
      "     Structure and Classification Rule for Recognition in Partially Exposed\n",
      "     Environments\".  IEEE Transactions on Pattern Analysis and Machine\n",
      "     Intelligence, Vol. PAMI-2, No. 1, 67-71.\n",
      "   - Gates, G.W. (1972) \"The Reduced Nearest Neighbor Rule\".  IEEE Transactions\n",
      "     on Information Theory, May 1972, 431-433.\n",
      "   - See also: 1988 MLC Proceedings, 54-64.  Cheeseman et al\"s AUTOCLASS II\n",
      "     conceptual clustering system finds 3 classes in the data.\n",
      "   - Many, many more ...\n"
     ]
    }
   ],
   "source": [
    "data = load_iris()\n",
    "# print the description of data\n",
    "print(data.DESCR)\n",
    "df = pd.DataFrame(data.data, columns = data.feature_names)\n",
    "df['target'] = data.target\n",
    "target_names = dict(zip((0,1,2), data.target_names))"
   ]
  },
  {
   "attachments": {},
   "cell_type": "markdown",
   "metadata": {},
   "source": [
    "#### Check the simple statistic about data"
   ]
  },
  {
   "cell_type": "code",
   "execution_count": 5,
   "metadata": {},
   "outputs": [
    {
     "data": {
      "text/html": [
       "<div>\n",
       "<style scoped>\n",
       "    .dataframe tbody tr th:only-of-type {\n",
       "        vertical-align: middle;\n",
       "    }\n",
       "\n",
       "    .dataframe tbody tr th {\n",
       "        vertical-align: top;\n",
       "    }\n",
       "\n",
       "    .dataframe thead th {\n",
       "        text-align: right;\n",
       "    }\n",
       "</style>\n",
       "<table border=\"1\" class=\"dataframe\">\n",
       "  <thead>\n",
       "    <tr style=\"text-align: right;\">\n",
       "      <th></th>\n",
       "      <th>sepal length (cm)</th>\n",
       "      <th>sepal width (cm)</th>\n",
       "      <th>petal length (cm)</th>\n",
       "      <th>petal width (cm)</th>\n",
       "      <th>target</th>\n",
       "    </tr>\n",
       "  </thead>\n",
       "  <tbody>\n",
       "    <tr>\n",
       "      <th>count</th>\n",
       "      <td>150.000000</td>\n",
       "      <td>150.000000</td>\n",
       "      <td>150.000000</td>\n",
       "      <td>150.000000</td>\n",
       "      <td>150.000000</td>\n",
       "    </tr>\n",
       "    <tr>\n",
       "      <th>mean</th>\n",
       "      <td>5.843333</td>\n",
       "      <td>3.057333</td>\n",
       "      <td>3.758000</td>\n",
       "      <td>1.199333</td>\n",
       "      <td>1.000000</td>\n",
       "    </tr>\n",
       "    <tr>\n",
       "      <th>std</th>\n",
       "      <td>0.828066</td>\n",
       "      <td>0.435866</td>\n",
       "      <td>1.765298</td>\n",
       "      <td>0.762238</td>\n",
       "      <td>0.819232</td>\n",
       "    </tr>\n",
       "    <tr>\n",
       "      <th>min</th>\n",
       "      <td>4.300000</td>\n",
       "      <td>2.000000</td>\n",
       "      <td>1.000000</td>\n",
       "      <td>0.100000</td>\n",
       "      <td>0.000000</td>\n",
       "    </tr>\n",
       "    <tr>\n",
       "      <th>25%</th>\n",
       "      <td>5.100000</td>\n",
       "      <td>2.800000</td>\n",
       "      <td>1.600000</td>\n",
       "      <td>0.300000</td>\n",
       "      <td>0.000000</td>\n",
       "    </tr>\n",
       "    <tr>\n",
       "      <th>50%</th>\n",
       "      <td>5.800000</td>\n",
       "      <td>3.000000</td>\n",
       "      <td>4.350000</td>\n",
       "      <td>1.300000</td>\n",
       "      <td>1.000000</td>\n",
       "    </tr>\n",
       "    <tr>\n",
       "      <th>75%</th>\n",
       "      <td>6.400000</td>\n",
       "      <td>3.300000</td>\n",
       "      <td>5.100000</td>\n",
       "      <td>1.800000</td>\n",
       "      <td>2.000000</td>\n",
       "    </tr>\n",
       "    <tr>\n",
       "      <th>max</th>\n",
       "      <td>7.900000</td>\n",
       "      <td>4.400000</td>\n",
       "      <td>6.900000</td>\n",
       "      <td>2.500000</td>\n",
       "      <td>2.000000</td>\n",
       "    </tr>\n",
       "  </tbody>\n",
       "</table>\n",
       "</div>"
      ],
      "text/plain": [
       "       sepal length (cm)  sepal width (cm)  petal length (cm)  \\\n",
       "count         150.000000        150.000000         150.000000   \n",
       "mean            5.843333          3.057333           3.758000   \n",
       "std             0.828066          0.435866           1.765298   \n",
       "min             4.300000          2.000000           1.000000   \n",
       "25%             5.100000          2.800000           1.600000   \n",
       "50%             5.800000          3.000000           4.350000   \n",
       "75%             6.400000          3.300000           5.100000   \n",
       "max             7.900000          4.400000           6.900000   \n",
       "\n",
       "       petal width (cm)      target  \n",
       "count        150.000000  150.000000  \n",
       "mean           1.199333    1.000000  \n",
       "std            0.762238    0.819232  \n",
       "min            0.100000    0.000000  \n",
       "25%            0.300000    0.000000  \n",
       "50%            1.300000    1.000000  \n",
       "75%            1.800000    2.000000  \n",
       "max            2.500000    2.000000  "
      ]
     },
     "execution_count": 5,
     "metadata": {},
     "output_type": "execute_result"
    }
   ],
   "source": [
    "df.describe()"
   ]
  },
  {
   "attachments": {},
   "cell_type": "markdown",
   "metadata": {},
   "source": [
    "#### Preprocessing of data  "
   ]
  },
  {
   "cell_type": "code",
   "execution_count": 6,
   "metadata": {},
   "outputs": [],
   "source": [
    "Y = df['target']\n",
    "X = df.drop('target', axis = 1)"
   ]
  },
  {
   "attachments": {},
   "cell_type": "markdown",
   "metadata": {},
   "source": [
    "#### Split dataset into train and test"
   ]
  },
  {
   "cell_type": "code",
   "execution_count": 7,
   "metadata": {},
   "outputs": [
    {
     "name": "stdout",
     "output_type": "stream",
     "text": [
      "Training Input shape\t: (112, 4)\n",
      "Testing Input shape\t: (38, 4)\n",
      "Training Output shape\t: (112, 3)\n",
      "Testing Output shape\t: (38, 3)\n"
     ]
    }
   ],
   "source": [
    "seed = 42\n",
    "np.random.seed(seed)\n",
    "\n",
    "Y_final = tf.keras.utils.to_categorical(Y)\n",
    "x_train, x_test, y_train, y_test = train_test_split(X, Y_final, test_size=0.25, random_state=seed, stratify=Y, shuffle=True)\n",
    "\n",
    "print(\"Training Input shape\\t: {}\".format(x_train.shape))\n",
    "print(\"Testing Input shape\\t: {}\".format(x_test.shape))\n",
    "print(\"Training Output shape\\t: {}\".format(y_train.shape))\n",
    "print(\"Testing Output shape\\t: {}\".format(y_test.shape))"
   ]
  },
  {
   "attachments": {},
   "cell_type": "markdown",
   "metadata": {},
   "source": [
    "#### Transform data\n"
   ]
  },
  {
   "cell_type": "code",
   "execution_count": 8,
   "metadata": {},
   "outputs": [],
   "source": [
    "std_clf = StandardScaler()\n",
    "x_train_new = std_clf.fit_transform(x_train)\n",
    "x_test_new = std_clf.transform(x_test)"
   ]
  },
  {
   "attachments": {},
   "cell_type": "markdown",
   "metadata": {},
   "source": [
    "#### Define model and fit"
   ]
  },
  {
   "cell_type": "code",
   "execution_count": 9,
   "metadata": {},
   "outputs": [
    {
     "name": "stdout",
     "output_type": "stream",
     "text": [
      "Epoch 1/10\n"
     ]
    },
    {
     "name": "stdout",
     "output_type": "stream",
     "text": [
      "{'batch': 0, 'loss': 1.109072208404541}\n",
      " 1/16 [>.............................] - ETA: 37s - loss: 1.1091 - accuracy: 0.7143{'batch': 1, 'loss': 1.2835887670516968}\n",
      "{'batch': 2, 'loss': 1.3305933475494385}\n",
      "{'batch': 3, 'loss': 1.4095627069473267}\n",
      "{'batch': 4, 'loss': 1.5744026899337769}\n",
      "{'batch': 5, 'loss': 1.583270788192749}\n",
      "{'batch': 6, 'loss': 1.5416871309280396}\n",
      "{'batch': 7, 'loss': 1.6386219263076782}\n",
      "{'batch': 8, 'loss': 1.6579784154891968}\n",
      "{'batch': 9, 'loss': 1.6495095491409302}\n",
      "{'batch': 10, 'loss': 1.6452288627624512}\n",
      "{'batch': 11, 'loss': 1.607759952545166}\n",
      "{'batch': 12, 'loss': 1.6084076166152954}\n",
      "{'batch': 13, 'loss': 1.5945754051208496}\n",
      "{'batch': 14, 'loss': 1.6025478839874268}\n",
      "15/16 [===========================>..] - ETA: 0s - loss: 1.6025 - accuracy: 0.3524 {'batch': 15, 'loss': 1.6179744005203247}\n",
      "{'epoch': 0, 'loss': 1.6179744005203247, 'accuracy': 0.3303571343421936}\n",
      "16/16 [==============================] - 3s 4ms/step - loss: 1.6180 - accuracy: 0.3304\n",
      "Epoch 2/10\n",
      "{'batch': 0, 'loss': 1.5702346563339233}\n",
      " 1/16 [>.............................] - ETA: 0s - loss: 1.5702 - accuracy: 0.2857{'batch': 1, 'loss': 1.3533238172531128}\n",
      "{'batch': 2, 'loss': 1.3923158645629883}\n",
      "{'batch': 3, 'loss': 1.5771600008010864}\n",
      "{'batch': 4, 'loss': 1.566351294517517}\n",
      "{'batch': 5, 'loss': 1.5302265882492065}\n",
      "{'batch': 6, 'loss': 1.4672067165374756}\n",
      "{'batch': 7, 'loss': 1.4614862203598022}\n",
      "{'batch': 8, 'loss': 1.4596542119979858}\n",
      "{'batch': 9, 'loss': 1.44575834274292}\n",
      "{'batch': 10, 'loss': 1.4339467287063599}\n",
      "{'batch': 11, 'loss': 1.4172459840774536}\n",
      "{'batch': 12, 'loss': 1.4300651550292969}\n",
      "{'batch': 13, 'loss': 1.4954298734664917}\n",
      "{'batch': 14, 'loss': 1.5054993629455566}\n",
      "{'batch': 15, 'loss': 1.510520339012146}\n",
      "{'epoch': 1, 'loss': 1.510520339012146, 'accuracy': 0.3928571343421936}\n",
      "16/16 [==============================] - 0s 3ms/step - loss: 1.5105 - accuracy: 0.3929\n",
      "Epoch 3/10\n",
      "{'batch': 0, 'loss': 1.7926737070083618}\n",
      " 1/16 [>.............................] - ETA: 0s - loss: 1.7927 - accuracy: 0.4286{'batch': 1, 'loss': 1.433876872062683}\n",
      "{'batch': 2, 'loss': 1.4229841232299805}\n",
      "{'batch': 3, 'loss': 1.3666070699691772}\n",
      "{'batch': 4, 'loss': 1.5174565315246582}\n",
      "{'batch': 5, 'loss': 1.5038108825683594}\n",
      "{'batch': 6, 'loss': 1.4873368740081787}\n",
      "{'batch': 7, 'loss': 1.4487888813018799}\n",
      "{'batch': 8, 'loss': 1.4305728673934937}\n",
      "{'batch': 9, 'loss': 1.4184472560882568}\n",
      "{'batch': 10, 'loss': 1.4321421384811401}\n",
      "{'batch': 11, 'loss': 1.419763445854187}\n",
      "{'batch': 12, 'loss': 1.4671335220336914}\n",
      "{'batch': 13, 'loss': 1.4664363861083984}\n",
      "{'batch': 14, 'loss': 1.49722421169281}\n",
      "{'batch': 15, 'loss': 1.4751883745193481}\n",
      "{'epoch': 2, 'loss': 1.4751883745193481, 'accuracy': 0.3928571343421936}\n",
      "16/16 [==============================] - 0s 3ms/step - loss: 1.4752 - accuracy: 0.3929\n",
      "Epoch 4/10\n",
      "{'batch': 0, 'loss': 1.874208688735962}\n",
      " 1/16 [>.............................] - ETA: 0s - loss: 1.8742 - accuracy: 0.1429{'batch': 1, 'loss': 1.468618631362915}\n",
      "{'batch': 2, 'loss': 1.445832371711731}\n",
      "{'batch': 3, 'loss': 1.5964518785476685}\n",
      "{'batch': 4, 'loss': 1.6187511682510376}\n",
      "{'batch': 5, 'loss': 1.6116894483566284}\n",
      "{'batch': 6, 'loss': 1.5283713340759277}\n",
      "{'batch': 7, 'loss': 1.5427500009536743}\n",
      "{'batch': 8, 'loss': 1.5701093673706055}\n",
      "{'batch': 9, 'loss': 1.5358213186264038}\n",
      "{'batch': 10, 'loss': 1.5153660774230957}\n",
      "{'batch': 11, 'loss': 1.5237747430801392}\n",
      "{'batch': 12, 'loss': 1.500176191329956}\n",
      "{'batch': 13, 'loss': 1.4821348190307617}\n",
      "{'batch': 14, 'loss': 1.4429144859313965}\n",
      "{'batch': 15, 'loss': 1.4417442083358765}\n",
      "{'epoch': 3, 'loss': 1.4417442083358765, 'accuracy': 0.4196428656578064}\n",
      "16/16 [==============================] - 0s 3ms/step - loss: 1.4417 - accuracy: 0.4196\n",
      "Epoch 5/10\n",
      "{'batch': 0, 'loss': 1.336077332496643}\n",
      " 1/16 [>.............................] - ETA: 0s - loss: 1.3361 - accuracy: 0.2857{'batch': 1, 'loss': 1.288844108581543}\n",
      "{'batch': 2, 'loss': 1.2771633863449097}\n",
      "{'batch': 3, 'loss': 1.2334145307540894}\n",
      "{'batch': 4, 'loss': 1.2908498048782349}\n",
      "{'batch': 5, 'loss': 1.3703303337097168}\n",
      "{'batch': 6, 'loss': 1.341166615486145}\n",
      "{'batch': 7, 'loss': 1.2930676937103271}\n",
      "{'batch': 8, 'loss': 1.3125066757202148}\n",
      "{'batch': 9, 'loss': 1.2919048070907593}\n",
      "{'batch': 10, 'loss': 1.274035930633545}\n",
      "{'batch': 11, 'loss': 1.2736661434173584}\n",
      "{'batch': 12, 'loss': 1.2893584966659546}\n",
      "{'batch': 13, 'loss': 1.3132336139678955}\n",
      "{'batch': 14, 'loss': 1.337158203125}\n",
      "{'batch': 15, 'loss': 1.315459966659546}\n",
      "{'epoch': 4, 'loss': 1.315459966659546, 'accuracy': 0.4821428656578064}\n",
      "16/16 [==============================] - 0s 3ms/step - loss: 1.3155 - accuracy: 0.4821\n",
      "Epoch 6/10\n",
      "{'batch': 0, 'loss': 1.4376379251480103}\n",
      " 1/16 [>.............................] - ETA: 0s - loss: 1.4376 - accuracy: 0.0000e+00{'batch': 1, 'loss': 1.24602210521698}\n",
      "{'batch': 2, 'loss': 1.2290440797805786}\n",
      "{'batch': 3, 'loss': 1.2087831497192383}\n",
      "{'batch': 4, 'loss': 1.2208572626113892}\n",
      "{'batch': 5, 'loss': 1.23050856590271}\n",
      "{'batch': 6, 'loss': 1.2581359148025513}\n",
      "{'batch': 7, 'loss': 1.2178494930267334}\n",
      "{'batch': 8, 'loss': 1.2149523496627808}\n",
      "{'batch': 9, 'loss': 1.1962497234344482}\n",
      "{'batch': 10, 'loss': 1.2225884199142456}\n",
      "{'batch': 11, 'loss': 1.2138844728469849}\n",
      "{'batch': 12, 'loss': 1.2312672138214111}\n",
      "{'batch': 13, 'loss': 1.2354514598846436}\n",
      "{'batch': 14, 'loss': 1.2503560781478882}\n",
      "{'batch': 15, 'loss': 1.2550147771835327}\n",
      "{'epoch': 5, 'loss': 1.2550147771835327, 'accuracy': 0.4732142984867096}\n",
      "16/16 [==============================] - 0s 3ms/step - loss: 1.2550 - accuracy: 0.4732\n",
      "Epoch 7/10\n",
      "{'batch': 0, 'loss': 1.0415050983428955}\n",
      " 1/16 [>.............................] - ETA: 0s - loss: 1.0415 - accuracy: 0.7143{'batch': 1, 'loss': 1.169726014137268}\n",
      "{'batch': 2, 'loss': 1.1773432493209839}\n",
      "{'batch': 3, 'loss': 1.2659838199615479}\n",
      "{'batch': 4, 'loss': 1.253879189491272}\n",
      "{'batch': 5, 'loss': 1.2870779037475586}\n",
      "{'batch': 6, 'loss': 1.2624250650405884}\n",
      "{'batch': 7, 'loss': 1.235802412033081}\n",
      "{'batch': 8, 'loss': 1.2281454801559448}\n",
      "{'batch': 9, 'loss': 1.2522047758102417}\n",
      "{'batch': 10, 'loss': 1.2585076093673706}\n",
      "{'batch': 11, 'loss': 1.2713154554367065}\n",
      "{'batch': 12, 'loss': 1.2571969032287598}\n",
      "{'batch': 13, 'loss': 1.2652369737625122}\n",
      "{'batch': 14, 'loss': 1.2534246444702148}\n",
      "{'batch': 15, 'loss': 1.2357056140899658}\n",
      "{'epoch': 6, 'loss': 1.2357056140899658, 'accuracy': 0.5}\n",
      "16/16 [==============================] - 0s 3ms/step - loss: 1.2357 - accuracy: 0.5000\n",
      "Epoch 8/10\n",
      "{'batch': 0, 'loss': 1.3211400508880615}\n",
      " 1/16 [>.............................] - ETA: 0s - loss: 1.3211 - accuracy: 0.2857{'batch': 1, 'loss': 1.3074620962142944}\n",
      "{'batch': 2, 'loss': 1.230251669883728}\n",
      "{'batch': 3, 'loss': 1.2384593486785889}\n",
      "{'batch': 4, 'loss': 1.291490912437439}\n",
      "{'batch': 5, 'loss': 1.2790530920028687}\n",
      "{'batch': 6, 'loss': 1.2688707113265991}\n",
      "{'batch': 7, 'loss': 1.2505842447280884}\n",
      "{'batch': 8, 'loss': 1.2713301181793213}\n",
      "{'batch': 9, 'loss': 1.2566089630126953}\n",
      "{'batch': 10, 'loss': 1.2447398900985718}\n",
      "{'batch': 11, 'loss': 1.2180593013763428}\n",
      "{'batch': 12, 'loss': 1.2142606973648071}\n",
      "{'batch': 13, 'loss': 1.2121862173080444}\n",
      "{'batch': 14, 'loss': 1.1948373317718506}\n",
      "{'batch': 15, 'loss': 1.207377314567566}\n",
      "16/16 [==============================] - ETA: 0s - loss: 1.2074 - accuracy: 0.5089{'epoch': 7, 'loss': 1.207377314567566, 'accuracy': 0.5089285969734192}\n",
      "16/16 [==============================] - 0s 4ms/step - loss: 1.2074 - accuracy: 0.5089\n",
      "Epoch 9/10\n",
      "{'batch': 0, 'loss': 1.404882550239563}\n",
      " 1/16 [>.............................] - ETA: 0s - loss: 1.4049 - accuracy: 0.4286{'batch': 1, 'loss': 1.396506667137146}\n",
      "{'batch': 2, 'loss': 1.287206768989563}\n",
      "{'batch': 3, 'loss': 1.1612203121185303}\n",
      "{'batch': 4, 'loss': 1.102042317390442}\n",
      "{'batch': 5, 'loss': 1.0947898626327515}\n",
      "{'batch': 6, 'loss': 1.0838584899902344}\n",
      "{'batch': 7, 'loss': 1.0624125003814697}\n",
      "{'batch': 8, 'loss': 1.0588123798370361}\n",
      "{'batch': 9, 'loss': 1.0685019493103027}\n",
      "{'batch': 10, 'loss': 1.0712381601333618}\n",
      "{'batch': 11, 'loss': 1.080965518951416}\n",
      "{'batch': 12, 'loss': 1.0886709690093994}\n",
      "{'batch': 13, 'loss': 1.084280014038086}\n",
      "{'batch': 14, 'loss': 1.0839015245437622}\n",
      "{'batch': 15, 'loss': 1.067623257637024}\n",
      "{'epoch': 8, 'loss': 1.067623257637024, 'accuracy': 0.5892857313156128}\n",
      "16/16 [==============================] - 0s 3ms/step - loss: 1.0676 - accuracy: 0.5893\n",
      "Epoch 10/10\n",
      "{'batch': 0, 'loss': 1.3252888917922974}\n",
      " 1/16 [>.............................] - ETA: 0s - loss: 1.3253 - accuracy: 0.2857{'batch': 1, 'loss': 1.315313458442688}\n",
      "{'batch': 2, 'loss': 1.2192461490631104}\n",
      "{'batch': 3, 'loss': 1.1446815729141235}\n",
      "{'batch': 4, 'loss': 1.0703445672988892}\n",
      "{'batch': 5, 'loss': 1.055195927619934}\n",
      "{'batch': 6, 'loss': 1.0801128149032593}\n",
      "{'batch': 7, 'loss': 1.1067265272140503}\n",
      "{'batch': 8, 'loss': 1.1106822490692139}\n",
      "{'batch': 9, 'loss': 1.1259063482284546}\n",
      "{'batch': 10, 'loss': 1.1136609315872192}\n",
      "{'batch': 11, 'loss': 1.094072937965393}\n",
      "{'batch': 12, 'loss': 1.0886168479919434}\n",
      "{'batch': 13, 'loss': 1.107771396636963}\n",
      "{'batch': 14, 'loss': 1.0989409685134888}\n",
      "{'batch': 15, 'loss': 1.0823575258255005}\n",
      "{'epoch': 9, 'loss': 1.0823575258255005, 'accuracy': 0.5982142686843872}\n",
      "16/16 [==============================] - 0s 3ms/step - loss: 1.0824 - accuracy: 0.5982\n"
     ]
    }
   ],
   "source": [
    "model = tf.keras.models.Sequential()\n",
    "model.add(tf.keras.layers.Dense(10, input_dim=4, activation=tf.nn.relu, kernel_initializer='he_normal', \n",
    "                                kernel_regularizer=tf.keras.regularizers.l2(0.01)))\n",
    "model.add(tf.keras.layers.BatchNormalization())\n",
    "model.add(tf.keras.layers.Dropout(0.3))\n",
    "model.add(tf.keras.layers.Dense(7, activation=tf.nn.relu, kernel_initializer='he_normal', \n",
    "                                kernel_regularizer=tf.keras.regularizers.l1_l2(l1=0.001, l2=0.001)))\n",
    "model.add(tf.keras.layers.BatchNormalization())\n",
    "model.add(tf.keras.layers.Dropout(0.3))\n",
    "model.add(tf.keras.layers.Dense(5, activation=tf.nn.relu, kernel_initializer='he_normal', \n",
    "                                kernel_regularizer=tf.keras.regularizers.l1_l2(l1=0.001, l2=0.001)))\n",
    "model.add(tf.keras.layers.Dense(3, activation=tf.nn.softmax))\n",
    "\n",
    "model.compile(optimizer='adam', loss='categorical_crossentropy', metrics=['accuracy'])\n",
    "\n",
    "iris_model = model.fit(x_train_new, y_train, epochs=10, batch_size=7, callbacks = [prevueCallback])"
   ]
  },
  {
   "attachments": {},
   "cell_type": "markdown",
   "metadata": {},
   "source": [
    "#### Evalulate model"
   ]
  },
  {
   "cell_type": "code",
   "execution_count": 10,
   "metadata": {},
   "outputs": [
    {
     "name": "stdout",
     "output_type": "stream",
     "text": [
      "2/2 [==============================] - 0s 6ms/step - loss: 1.0181 - accuracy: 0.7368\n"
     ]
    },
    {
     "data": {
      "text/plain": [
       "[1.0180940628051758, 0.7368420958518982]"
      ]
     },
     "execution_count": 10,
     "metadata": {},
     "output_type": "execute_result"
    }
   ],
   "source": [
    "model.evaluate(x_test_new, y_test)"
   ]
  }
 ],
 "metadata": {
  "kernelspec": {
   "display_name": ".venv",
   "language": "python",
   "name": "python3"
  },
  "language_info": {
   "codemirror_mode": {
    "name": "ipython",
    "version": 3
   },
   "file_extension": ".py",
   "mimetype": "text/x-python",
   "name": "python",
   "nbconvert_exporter": "python",
   "pygments_lexer": "ipython3",
   "version": "3.11.4"
  },
  "orig_nbformat": 4
 },
 "nbformat": 4,
 "nbformat_minor": 2
}
